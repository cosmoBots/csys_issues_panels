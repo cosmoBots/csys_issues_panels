{
 "cells": [
  {
   "cell_type": "markdown",
   "metadata": {},
   "source": [
    "Primero vamos a conectarnos con el servidor de origen y listar sus proyectos"
   ]
  },
  {
   "cell_type": "code",
   "execution_count": null,
   "metadata": {},
   "outputs": [],
   "source": [
    "from redminelib import Redmine\n",
    "import cfg_src_rm\n",
    "\n",
    "if cfg_src_rm.ignore_cert:\n",
    "    src_rm = Redmine(cfg_src_rm.server_url,key=cfg_src_rm.api_key, requests={'verify': False})\n",
    "else:\n",
    "    src_rm = Redmine(cfg_src_rm.server_url,key=cfg_src_rm.api_key)\n",
    "\n",
    "src_prjs = src_rm.project.all()\n",
    "\n",
    "print(\"Proyectos del servidor origen:\")\n",
    "for p in src_prjs:\n",
    "    print (\"\\t\",p.identifier,\" \\t| \",p.name)\n"
   ]
  },
  {
   "cell_type": "markdown",
   "metadata": {},
   "source": [
    "Ahora vamos a averiguar los identificadores de los campos personalizados que necesitaremos, mientras construimos un diccionario de ellos:"
   ]
  },
  {
   "cell_type": "code",
   "execution_count": null,
   "metadata": {},
   "outputs": [],
   "source": [
    "src_cfs = {}\n",
    "for cf in src_rm.custom_field.all():\n",
    "    print(cf)\n",
    "    src_cfs[cf.name] = cf\n",
    "    \n",
    "print(src_cfs.keys())"
   ]
  },
  {
   "cell_type": "markdown",
   "metadata": {},
   "source": [
    "Listaremos las tareas mientras construimos un diccionario para saber encontrar las tareas por subject"
   ]
  },
  {
   "cell_type": "code",
   "execution_count": null,
   "metadata": {},
   "outputs": [],
   "source": [
    "src_prj = src_rm.project.get(cfg_src_rm.project_id)\n",
    "print (\"Obtenemos proyecto: \",src_prj.identifier,\" | \",src_prj.name)\n",
    "\n",
    "src_prj_issues = src_rm.issue.filter(\n",
    "    project_id=src_prj.id,\n",
    "    sort='subject:asc',\n",
    "    status_id='*'\n",
    ")\n",
    "\n",
    "src_tsks = {}\n",
    "src_tsks_id = {}\n",
    "for i in src_prj_issues:    \n",
    "    print(i.subject)\n",
    "    src_tsks[i.subject] = src_rm.issue.get(i.id)\n",
    "    src_tsks_id[i.id] = src_rm.issue.get(i.id)\n",
    "    \n",
    "    # Hemos de obtener el título\n",
    "    #print(\"cfsid:\",src_cfs['WrkloadPct'].id)\n",
    "    valid_cv = False\n",
    "    cv = i.custom_fields.get(src_cfs['IssTitle'].id)\n",
    "    thistitle = \"NO TITLE\"\n",
    "    if cv is not None:\n",
    "        if hasattr(cv,'value'):\n",
    "            cv_val = cv.value\n",
    "            if(cv_val != \"\"):\n",
    "                print(\"title:\",cv_val)\n",
    "                thistitle = cv_val\n",
    "                \n",
    "    src_tsks[i.subject]['title'] = thistitle\n",
    "    src_tsks_id[i.id]['title'] = thistitle\n",
    "        \n",
    "    # Hemos de obtener el workload\n",
    "    valid_cv = False\n",
    "    cv = i.custom_fields.get(src_cfs['WrkloadPct'].id)\n",
    "    wload = 0\n",
    "    wloadstr = \"*0*\"\n",
    "    if cv is not None:\n",
    "        if hasattr(cv,'value'):\n",
    "            cv_val = cv.value\n",
    "            if(cv_val != \"\"):\n",
    "                print(\"wloadstr:\",cv_val)\n",
    "                wload = int(cv_val)\n",
    "                wloadstr = cv_val                \n",
    "\n",
    "    src_tsks[i.subject]['wload'] = wload\n",
    "    src_tsks_id[i.id]['wload'] = wload    \n",
    "    src_tsks[i.subject]['wloadstr'] = wloadstr\n",
    "    src_tsks_id[i.id]['wloadstr'] = wloadstr\n",
    "\n",
    "    print(i.id)\n",
    "    \n",
    "print(src_tsks.keys())"
   ]
  },
  {
   "cell_type": "code",
   "execution_count": null,
   "metadata": {},
   "outputs": [],
   "source": [
    "print(\"Source Redmine users\")\n",
    "src_users_login = {}\n",
    "src_users_id = {}\n",
    "for u in src_rm.user.all():\n",
    "    src_users_login[u.login] = u\n",
    "    src_users_id[u.id] = u\n",
    "    src_users_id[u.id]['tsks'] = []\n",
    "    print(src_users_id[u.id]['tsks'])\n",
    "    print(src_users_id[u.id])\n",
    "\n",
    "print(src_users_login.keys())\n",
    "\n",
    "print(\"Source Redmine groups\")\n",
    "src_groups_login = {}\n",
    "src_groups_id = {}\n",
    "for u in src_rm.group.all():\n",
    "    src_groups_login[u.name] = u\n",
    "    src_groups_id[u.id] = u\n",
    "    \n",
    "\n",
    "print(src_groups_login.keys())\n"
   ]
  },
  {
   "cell_type": "markdown",
   "metadata": {},
   "source": [
    "Ahora comprobamos los status de uno y otro lado"
   ]
  },
  {
   "cell_type": "code",
   "execution_count": null,
   "metadata": {},
   "outputs": [],
   "source": [
    "print(\"Source Redmine statuses\")\n",
    "src_statuses = {}\n",
    "src_statuses_id = {}\n",
    "for st in src_rm.issue_status.all():\n",
    "    src_statuses[st.name] = st\n",
    "    src_statuses_id[st.id] = st\n",
    "    \n",
    "print(src_statuses.keys())\n"
   ]
  },
  {
   "cell_type": "markdown",
   "metadata": {},
   "source": [
    "Ahora comprobamos las prioridades de uno y otro lado"
   ]
  },
  {
   "cell_type": "code",
   "execution_count": null,
   "metadata": {},
   "outputs": [],
   "source": [
    "print(\"Source Redmine priorities\")\n",
    "src_priorities = {}\n",
    "src_priorities_id = {}\n",
    "for prio in src_rm.enumeration.filter(resource='issue_priorities'):\n",
    "    src_priorities[prio.name] = prio\n",
    "    src_priorities_id[prio.id] = prio\n",
    "    \n",
    "print(src_priorities.keys())\n"
   ]
  },
  {
   "cell_type": "raw",
   "metadata": {},
   "source": [
    "Distribuimos las tareas por usuarios:"
   ]
  },
  {
   "cell_type": "code",
   "execution_count": null,
   "metadata": {},
   "outputs": [],
   "source": [
    "for tsk in src_tsks.keys():\n",
    "    if (hasattr(src_tsks[tsk],'assigned_to')):\n",
    "        assig = src_tsks[tsk].assigned_to\n",
    "        print(assig)\n",
    "        print(assig.id)\n",
    "        if assig.id in src_users_id.keys():\n",
    "            print(src_users_id[assig.id].login)\n",
    "            src_users_id[assig.id]['tsks'] += [src_tsks[tsk]]\n",
    "            \n",
    "        else:\n",
    "            if assig.id in src_groups_id.keys():\n",
    "                print(src_groups_id[assig.id].name)\n",
    "            else:\n",
    "                print(\"No encontramos a \",assig.id)\n",
    "            "
   ]
  },
  {
   "cell_type": "code",
   "execution_count": null,
   "metadata": {},
   "outputs": [],
   "source": [
    "for k in src_users_id.keys():\n",
    "    u=src_users_id[k]\n",
    "    print(u.login)\n",
    "    print(u['tsks'])"
   ]
  },
  {
   "cell_type": "markdown",
   "metadata": {},
   "source": [
    "Mostramos las tareas de los usuarios de hoy"
   ]
  },
  {
   "cell_type": "code",
   "execution_count": null,
   "metadata": {},
   "outputs": [],
   "source": [
    "import datetime\n",
    "from pyexcel_ods import save_data\n",
    "from collections import OrderedDict\n",
    "\n",
    "import odswriter as ods\n",
    "import decimal\n",
    "\n",
    "def date_by_adding_business_days(from_date, add_days):\n",
    "    business_days_to_add = add_days\n",
    "    current_date = from_date\n",
    "    while business_days_to_add > 0:\n",
    "        current_date += datetime.timedelta(days=1)\n",
    "        weekday = current_date.weekday()\n",
    "        if weekday >= 5: # sunday = 6\n",
    "            continue\n",
    "        business_days_to_add -= 1\n",
    "    return current_date\n",
    "\n",
    "\n",
    "\n",
    "'''\n",
    "    odsfile.writerow([\"String\", \"ABCDEF123456\", \"123456\"])\n",
    "    # Lose the 2L below if you want to run this example code on Python 3, Python 3 has no long type.\n",
    "    odsfile.writerow([\"Float\", 1, 123, 123.123, decimal.Decimal(\"10.321\")])\n",
    "    odsfile.writerow([\"Date/DateTime\", datetime.datetime.now(), datetime.date(1989, 11, 9)])\n",
    "    odsfile.writerow([\"Time\",datetime.time(13, 37),datetime.time(16, 17, 18)])\n",
    "    odsfile.writerow([\"Bool\", True, False, True])\n",
    "    odsfile.writerow([\"Formula\", 1, 2, 3, ods.Formula(\"IF(A1=2,B1,C1)\")])\n",
    "'''\n",
    "\n",
    "\n",
    "# Open odswriter spreadsheet\n",
    "with ods.writer(open(\"file2.ods\",\"wb\")) as odsfile:\n",
    "    data = OrderedDict() # from collections import OrderedDict\n",
    "\n",
    "    for k in src_users_id.keys():\n",
    "        u=src_users_id[k]\n",
    "        usersheet = odsfile.new_sheet(u.login)\n",
    "        print(\"\\n\\n********\",u.login)\n",
    "\n",
    "        initdate = datetime.date.today()\n",
    "        thisdate = datetime.date.today()\n",
    "        dayscounter = 0\n",
    "        header_row = [\"ID\",\"Title\",\"Start date\",\"Due date\",\"WloadAcum\"]\n",
    "        subheader_row = [\"\",\"\",\"\",\"\",\"Totals\",\"Use this row for your totalling formulas\"]\n",
    "        subheader_row2 = [\"\",\"\",\"\",\"\",\"Totals\"]\n",
    "        while dayscounter <= 20:\n",
    "            dayscounter += 1    \n",
    "            thisdate = date_by_adding_business_days(initdate, dayscounter)\n",
    "            header_row += [str(thisdate)]\n",
    "            subheader_row2 += [ods.Formula(\"=SUM(INDIRECT(ADDRESS(ROW()+1;COLUMN();1;1)):INDIRECT(ADDRESS(ROW()+500;COLUMN();1;1)))\")] \n",
    "\n",
    "        sheet = [header_row]+[subheader_row]\n",
    "        usersheet.writerow(header_row)\n",
    "        usersheet.writerow(subheader_row2)\n",
    "\n",
    "        for t in u['tsks']:\n",
    "            if (hasattr(t,'start_date')):\n",
    "                tstartdate = t.start_date\n",
    "            else:\n",
    "                tstartdate = None\n",
    "\n",
    "            if (hasattr(t,'due_date')):\n",
    "                tduedate = t.due_date\n",
    "            else:\n",
    "                tduedate = None\n",
    "\n",
    "\n",
    "            wloadAcum = 0\n",
    "            thisdate = datetime.date.today()\n",
    "            dayscounter = 0\n",
    "            thisrowheader = [t.subject,t['title'],str(tstartdate),str(tduedate)]\n",
    "            thisrow = []\n",
    "            thisrow2 = []\n",
    "            print(thisrowheader)\n",
    "            while dayscounter <= 20:\n",
    "                print(\"Tratamos fecha:\",thisdate)\n",
    "                ok_start =  (tstartdate is None or tstartdate <= thisdate)\n",
    "                ok_due =  (tduedate is None or tduedate >= thisdate)\n",
    "                #print(t.subject,ok_start,ok_due)\n",
    "                if (ok_start and ok_due):\n",
    "                    # Nos toca contabilizar el workload\n",
    "                    wloadAcum += t['wload']\n",
    "                    thisrow += [t['wloadstr']]\n",
    "                    thisrow2 += [t['wload']]\n",
    "\n",
    "                    print(\"\\nTotal para\",u.login,\"para\",thisdate,wloadAcum)\n",
    "\n",
    "                else:\n",
    "                    thisrow += [\"\"]\n",
    "                    thisrow2 + [\"\"]\n",
    "\n",
    "                dayscounter += 1\n",
    "                thisdate = date_by_adding_business_days(initdate, dayscounter)\n",
    "\n",
    "            if wloadAcum > 0:\n",
    "                thisrowheader += [wloadAcum]\n",
    "            else:\n",
    "                thisrowheader += [\"\"]\n",
    "\n",
    "            sheet += [thisrowheader + thisrow]\n",
    "            usersheet.writerow(thisrowheader + thisrow2)\n",
    "\n",
    "        data.update({u.login: sheet})\n",
    "\n",
    "    save_data(\"your_file.ods\", data)"
   ]
  },
  {
   "cell_type": "code",
   "execution_count": null,
   "metadata": {},
   "outputs": [],
   "source": [
    "print(\"hecho\")"
   ]
  },
  {
   "cell_type": "code",
   "execution_count": null,
   "metadata": {},
   "outputs": [],
   "source": []
  },
  {
   "cell_type": "code",
   "execution_count": null,
   "metadata": {},
   "outputs": [],
   "source": []
  },
  {
   "cell_type": "code",
   "execution_count": null,
   "metadata": {},
   "outputs": [],
   "source": []
  },
  {
   "cell_type": "code",
   "execution_count": null,
   "metadata": {},
   "outputs": [],
   "source": []
  },
  {
   "cell_type": "code",
   "execution_count": null,
   "metadata": {},
   "outputs": [],
   "source": []
  },
  {
   "cell_type": "code",
   "execution_count": null,
   "metadata": {},
   "outputs": [],
   "source": []
  }
 ],
 "metadata": {
  "kernelspec": {
   "display_name": "Python 3",
   "language": "python",
   "name": "python3"
  },
  "language_info": {
   "codemirror_mode": {
    "name": "ipython",
    "version": 3
   },
   "file_extension": ".py",
   "mimetype": "text/x-python",
   "name": "python",
   "nbconvert_exporter": "python",
   "pygments_lexer": "ipython3",
   "version": "3.7.6"
  }
 },
 "nbformat": 4,
 "nbformat_minor": 4
}
